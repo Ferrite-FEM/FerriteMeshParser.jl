{
 "cells": [
  {
   "cell_type": "markdown",
   "source": [
    "# 2d mixed mesh import\n",
    "In this example, we will import a 2d mesh of a Compact Tension (CT) specimen\n",
    "from Abaqus. The mesh has both triangular and quadrilateral cells, and we define\n",
    "a few sets in Abaqus."
   ],
   "metadata": {}
  },
  {
   "cell_type": "markdown",
   "source": [
    "## Abaqus setup\n",
    "\n",
    "![](compact_tension_specimen.svg)\n",
    "Figure 1: Geometry and sets, mesh overview and detailed mesh from Abaqus.\n",
    "\n",
    "We have created sets for the hole (blue line: \"Hole\"), the symmetry edge\n",
    "(red line: \"Symmetry\"), and the crack zone (green area: \"CrackZone\").\n",
    "\n",
    "## Importing mesh\n",
    "The mesh above was created in Abaqus cae, and in this example we\n",
    "import the generated input file: [compact_tension.inp](compact_tension.inp)"
   ],
   "metadata": {}
  },
  {
   "outputs": [
    {
     "output_type": "execute_result",
     "data": {
      "text/plain": "Ferrite.Grid{2, Union{Ferrite.Quadrilateral, Ferrite.Triangle}, Float64} with 1046 Ferrite.Quadrilateral/Ferrite.Triangle cells and 1098 nodes"
     },
     "metadata": {},
     "execution_count": 1
    }
   ],
   "cell_type": "code",
   "source": [
    "using Ferrite, FerriteMeshParser\n",
    "\n",
    "grid = get_ferrite_grid(\"compact_tension.inp\")"
   ],
   "metadata": {},
   "execution_count": 1
  },
  {
   "cell_type": "markdown",
   "source": [
    "We can now inspect this grid, showing that we have different cell types"
   ],
   "metadata": {}
  },
  {
   "outputs": [
    {
     "name": "stdout",
     "output_type": "stream",
     "text": [
      "Ferrite.Grid{2, Union{Ferrite.Quadrilateral, Ferrite.Triangle}, Float64}\n",
      "DataType[Ferrite.Triangle, Ferrite.Quadrilateral]\n"
     ]
    }
   ],
   "cell_type": "code",
   "source": [
    "println(typeof(grid))\n",
    "println(unique(typeof.(getcells(grid))))    # The different cell types in the grid"
   ],
   "metadata": {},
   "execution_count": 2
  },
  {
   "cell_type": "markdown",
   "source": [
    "Furthermore, the node and cell sets are imported"
   ],
   "metadata": {}
  },
  {
   "outputs": [
    {
     "name": "stdout",
     "output_type": "stream",
     "text": [
      "[(\"CrackZone\", 649), (\"Hole\", 38), (\"Symmetry\", 54)]\n",
      "[(\"CrackZone\", 631), (\"Hole\", 38), (\"CPS3\", 47), (\"CPS4R\", 999), (\"Symmetry\", 53)]\n"
     ]
    }
   ],
   "cell_type": "code",
   "source": [
    "println([(key, length(set)) for (key, set) in Ferrite.getnodesets(grid)])\n",
    "println([(key, length(set)) for (key, set) in Ferrite.getcellsets(grid)])"
   ],
   "metadata": {},
   "execution_count": 3
  },
  {
   "cell_type": "markdown",
   "source": [
    "As we see, in addition to the sets created in Abaqus, the cellsets also include a set\n",
    "for each abaqus element type (useful if you for example defined reduced integration\n",
    "in only part of the domain and want to have this in Ferrite). Finally, facetsets are\n",
    "automatically created by default (can be turned off by `generate_facetsets=false`\n",
    "argument) based on the nodesets:"
   ],
   "metadata": {}
  },
  {
   "outputs": [
    {
     "name": "stdout",
     "output_type": "stream",
     "text": [
      "[(\"CrackZone\", 2491), (\"Hole\", 38), (\"Symmetry\", 53)]\n"
     ]
    }
   ],
   "cell_type": "code",
   "source": [
    "println([(key, length(set)) for (key, set) in Ferrite.getfacetsets(grid)])"
   ],
   "metadata": {},
   "execution_count": 4
  },
  {
   "cell_type": "markdown",
   "source": [
    "Clearly, the facetset `\"CrackZone\"` doesn't make much sense, but unless the mesh is\n",
    "very large it doesn't hurt. The facetsets can be created manually from each nodeset\n",
    "by using the `create_facetset` function:"
   ],
   "metadata": {}
  },
  {
   "outputs": [],
   "cell_type": "code",
   "source": [
    "facetset = create_facetset(grid, getnodeset(grid,\"Hole\"));"
   ],
   "metadata": {},
   "execution_count": 5
  },
  {
   "cell_type": "markdown",
   "source": [
    "This can, if desired, be merged into the grid by\n",
    "```julia\n",
    "addfacetset!(grid, \"HoleManual\", facetset)\n",
    "```"
   ],
   "metadata": {}
  },
  {
   "cell_type": "markdown",
   "source": [
    "---\n",
    "\n",
    "*This notebook was generated using [Literate.jl](https://github.com/fredrikekre/Literate.jl).*"
   ],
   "metadata": {}
  }
 ],
 "nbformat_minor": 3,
 "metadata": {
  "language_info": {
   "file_extension": ".jl",
   "mimetype": "application/julia",
   "name": "julia",
   "version": "1.11.4"
  },
  "kernelspec": {
   "name": "julia-1.11",
   "display_name": "Julia 1.11.4",
   "language": "julia"
  }
 },
 "nbformat": 4
}
