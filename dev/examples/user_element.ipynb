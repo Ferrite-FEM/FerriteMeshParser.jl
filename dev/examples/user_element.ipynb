{
 "cells": [
  {
   "cell_type": "markdown",
   "source": [
    "# User element\n",
    "In this example, we will add support for an element that is currently not\n",
    "supported inside the package: The linear wedge element, `C3D6`, defined in\n",
    "[wedge_element.inp](wedge_element.inp), which exists in Ferrite as `Wedge`.\n",
    "It is also possible to define how to read in other cells not defined in\n",
    "Ferrite using the same technique, but that also requires defining further\n",
    "information to be able to use such cells in Ferrite later.\n",
    "\n",
    "![](wedge_element.svg)"
   ],
   "metadata": {}
  },
  {
   "outputs": [],
   "cell_type": "code",
   "source": [
    "using Ferrite, FerriteMeshParser"
   ],
   "metadata": {},
   "execution_count": 1
  },
  {
   "cell_type": "markdown",
   "source": [
    "The `Wedge` cell has the same node order in Ferrite as in Abaqus (above).\n",
    "Hence, in this case it is not required, but if desired it can be changed\n",
    "by overloading the function `FerriteMeshParser.create_cell` as follows"
   ],
   "metadata": {}
  },
  {
   "outputs": [
    {
     "output_type": "execute_result",
     "data": {
      "text/plain": "create_cell (generic function with 1 method)"
     },
     "metadata": {},
     "execution_count": 2
    }
   ],
   "cell_type": "code",
   "source": [
    "create_cell(::Type{Wedge}, node_numbers, ::FerriteMeshParser.AbaqusMeshFormat) = Wedge(ntuple(j->node_numbers[j], length(node_numbers)))"
   ],
   "metadata": {},
   "execution_count": 2
  },
  {
   "cell_type": "markdown",
   "source": [
    "This setup allows changing the node order for your specific element.\n",
    "After these modifications, one can import\n",
    "the mesh by specifying that the Abaqus code `C3D6` should be interpreted as a `LinearWedge`:"
   ],
   "metadata": {}
  },
  {
   "outputs": [],
   "cell_type": "code",
   "source": [
    "grid = get_ferrite_grid(\"wedge_element.inp\"; user_elements=Dict(\"C3D6\"=>Wedge));"
   ],
   "metadata": {},
   "execution_count": 3
  },
  {
   "cell_type": "markdown",
   "source": [
    "Giving the following grid"
   ],
   "metadata": {}
  },
  {
   "outputs": [
    {
     "name": "stdout",
     "output_type": "stream",
     "text": [
      "Ferrite.Grid{3, Ferrite.Wedge, Float64}\n",
      "DataType[Ferrite.Wedge]\n"
     ]
    }
   ],
   "cell_type": "code",
   "source": [
    "println(typeof(grid))\n",
    "println(unique(typeof.(getcells(grid))))    # The different cell types in the grid"
   ],
   "metadata": {},
   "execution_count": 4
  },
  {
   "cell_type": "markdown",
   "source": [
    "---\n",
    "\n",
    "*This notebook was generated using [Literate.jl](https://github.com/fredrikekre/Literate.jl).*"
   ],
   "metadata": {}
  }
 ],
 "nbformat_minor": 3,
 "metadata": {
  "language_info": {
   "file_extension": ".jl",
   "mimetype": "application/julia",
   "name": "julia",
   "version": "1.11.6"
  },
  "kernelspec": {
   "name": "julia-1.11",
   "display_name": "Julia 1.11.6",
   "language": "julia"
  }
 },
 "nbformat": 4
}
