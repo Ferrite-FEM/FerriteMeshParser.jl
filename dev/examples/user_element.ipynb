{
 "cells": [
  {
   "cell_type": "markdown",
   "source": [
    "# User element\n",
    "In this example, we will add support for an element that is currently not\n",
    "supported inside the package: The linear wedge element, `C3D6`, defined in\n",
    "[wedge_element.inp](wedge_element.inp)\n",
    "\n",
    "![](wedge_element.svg)\n",
    "\n",
    "For this element, it can be defined as a specific `Ferrite.Cell` type"
   ],
   "metadata": {}
  },
  {
   "outputs": [
    {
     "output_type": "execute_result",
     "data": {
      "text/plain": "Wedge\u001b[90m (alias for \u001b[39m\u001b[90mFerrite.Cell{3, 6, 5}\u001b[39m\u001b[90m)\u001b[39m"
     },
     "metadata": {},
     "execution_count": 1
    }
   ],
   "cell_type": "code",
   "source": [
    "using Ferrite, FerriteMeshParser\n",
    "LinearWedge = Ferrite.Cell{3,6,5}"
   ],
   "metadata": {},
   "execution_count": 1
  },
  {
   "cell_type": "markdown",
   "source": [
    "For this element to work with Ferrite, one must define a new reference shape\n",
    "e.g. Wedge and the appropriate interpolations for this shape. In doing so,\n",
    "one also chooses the node order. Following the standard Ferrite conventions,\n",
    "the node order should be the same as in Abaqus as shown above. To change this,\n",
    "it is possible to overload the function `FerriteMeshParser.create_cell` as follows"
   ],
   "metadata": {}
  },
  {
   "outputs": [
    {
     "output_type": "execute_result",
     "data": {
      "text/plain": "create_cell (generic function with 1 method)"
     },
     "metadata": {},
     "execution_count": 2
    }
   ],
   "cell_type": "code",
   "source": [
    "create_cell(::Type{LinearWedge}, node_numbers, ::FerriteMeshParser.AbaqusMeshFormat) = LinearWedge(ntuple(j->node_numbers[j], length(node_numbers)))"
   ],
   "metadata": {},
   "execution_count": 2
  },
  {
   "cell_type": "markdown",
   "source": [
    "This setup allows changing the node order for your specific element.\n",
    "It is also possible to use another type which is not a variant of `Ferrite.Cell`, but\n",
    "rather a subtype of `Ferrite.AbstractCell`. After these modifications, one can import\n",
    "the mesh by specifying that the Abaqus code `C3D6` should be interpreted as a `LinearWedge`:"
   ],
   "metadata": {}
  },
  {
   "outputs": [],
   "cell_type": "code",
   "source": [
    "grid = get_ferrite_grid(\"wedge_element.inp\"; user_elements=Dict(\"C3D6\"=>LinearWedge));"
   ],
   "metadata": {},
   "execution_count": 3
  },
  {
   "cell_type": "markdown",
   "source": [
    "Giving the following grid"
   ],
   "metadata": {}
  },
  {
   "outputs": [
    {
     "name": "stdout",
     "output_type": "stream",
     "text": [
      "Ferrite.Grid{3, Ferrite.Wedge, Float64}\n",
      "DataType[Ferrite.Wedge]\n"
     ]
    }
   ],
   "cell_type": "code",
   "source": [
    "println(typeof(grid))\n",
    "println(unique(typeof.(getcells(grid))))    # The different cell types in the grid"
   ],
   "metadata": {},
   "execution_count": 4
  },
  {
   "cell_type": "markdown",
   "source": [
    "---\n",
    "\n",
    "*This notebook was generated using [Literate.jl](https://github.com/fredrikekre/Literate.jl).*"
   ],
   "metadata": {}
  }
 ],
 "nbformat_minor": 3,
 "metadata": {
  "language_info": {
   "file_extension": ".jl",
   "mimetype": "application/julia",
   "name": "julia",
   "version": "1.10.5"
  },
  "kernelspec": {
   "name": "julia-1.10",
   "display_name": "Julia 1.10.5",
   "language": "julia"
  }
 },
 "nbformat": 4
}
