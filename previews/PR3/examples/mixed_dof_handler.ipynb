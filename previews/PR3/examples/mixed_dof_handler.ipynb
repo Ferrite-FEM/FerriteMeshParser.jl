{
 "cells": [
  {
   "cell_type": "markdown",
   "source": [
    "# Using the MixedDofHandler\n",
    "In this example, we will import a 2d mesh of a Compact Tension (CT) specimen\n",
    "from Abaqus to simulate the elastic stresses around the crack tip"
   ],
   "metadata": {}
  },
  {
   "cell_type": "markdown",
   "source": [
    "## Imported Abaqus mesh\n",
    "\n",
    "![](compact_tension_specimen.svg)\n",
    "Figure 1: Geometry and sets, mesh overview and detailed mesh from Abaqus.\n",
    "\n",
    "We have created sets for the hole (blue line: \"Hole\"), the symmetry edge\n",
    "(red line: \"Symmetry\"), and the crack zone (green area: \"CrackZone\").\n",
    "\n",
    "## Importing mesh\n",
    "The mesh above was created in Abaqus cae, and in this example we\n",
    "import the generated input file: [compact_tension.inp](compact_tension.inp)\n",
    "\n",
    "\n",
    "Installation of required packages for reference\n",
    "using Pkg\n",
    "Pkg.add(\"Ferrite\")\n",
    "Pkg.add(\"Tensors\")\n",
    "Pkg.add(\"https://github.com/KnutAM/FerriteMeshParser.jl.git\")\n",
    "\n",
    "Required packages"
   ],
   "metadata": {}
  },
  {
   "outputs": [],
   "cell_type": "code",
   "source": [
    "using Ferrite, FerriteMeshParser, Tensors"
   ],
   "metadata": {},
   "execution_count": 1
  },
  {
   "cell_type": "markdown",
   "source": [
    "Simplified setup of linear isotropic elasticity for plane strain"
   ],
   "metadata": {}
  },
  {
   "outputs": [
    {
     "output_type": "execute_result",
     "data": {
      "text/plain": "material_stiffness (generic function with 3 methods)"
     },
     "metadata": {},
     "execution_count": 2
    }
   ],
   "cell_type": "code",
   "source": [
    "function material_stiffness(E=210.e3, ν=0.3)\n",
    "    G = E / 2(1 + ν)\n",
    "    K = E / 3(1 - 2ν)\n",
    "    I2 = one(SymmetricTensor{2,3})\n",
    "    I4vol = I2⊗I2\n",
    "    I4dev = otimesu(I2,I2) - I4vol / 3\n",
    "    stiff_3d = 2G*I4dev + K*I4vol\n",
    "    return SymmetricTensor{4,2}((i,j,k,l)->stiff_3d[i,j,k,l])\n",
    "end"
   ],
   "metadata": {},
   "execution_count": 2
  },
  {
   "cell_type": "markdown",
   "source": [
    "Assembly of all cells"
   ],
   "metadata": {}
  },
  {
   "outputs": [
    {
     "output_type": "execute_result",
     "data": {
      "text/plain": "doassemble! (generic function with 1 method)"
     },
     "metadata": {},
     "execution_count": 3
    }
   ],
   "cell_type": "code",
   "source": [
    "function doassemble!(cv, K, dh)\n",
    "    first_cellid = Dict(key => first(getcellset(dh.grid, key)) for key in keys(cv))\n",
    "    ndpc = Dict(key => ndofs_per_cell(dh, first_cellid[key]) for key in keys(cv))\n",
    "    Ke = Dict(key => zeros(n,n) for (key,n) in ndpc)\n",
    "\n",
    "    f = zeros(ndofs(dh))\n",
    "    assembler = start_assemble(K, f)\n",
    "\n",
    "    for key in keys(cv)\n",
    "        for cell in CellIterator(dh, collect(getcellset(dh.grid, key)))\n",
    "            assemble_cell!(assembler, cell, cv[key], Ke[key])\n",
    "        end\n",
    "    end\n",
    "end"
   ],
   "metadata": {},
   "execution_count": 3
  },
  {
   "cell_type": "markdown",
   "source": [
    "Assembly of specific cell (to allow dispatch on different celltypes)"
   ],
   "metadata": {}
  },
  {
   "outputs": [
    {
     "output_type": "execute_result",
     "data": {
      "text/plain": "assemble_cell! (generic function with 1 method)"
     },
     "metadata": {},
     "execution_count": 4
    }
   ],
   "cell_type": "code",
   "source": [
    "function assemble_cell!(assembler, cell, cv, Ke)\n",
    "    reinit!(cv, cell)\n",
    "    n_basefuncs = getnbasefunctions(cv)\n",
    "    fill!(Ke, 0)\n",
    "    for q_point in 1:getnquadpoints(cv)\n",
    "        dσdϵ = material_stiffness()\n",
    "        dΩ = getdetJdV(cv, q_point)\n",
    "        for i in 1:n_basefuncs\n",
    "            δ∇N = shape_symmetric_gradient(cv, q_point, i)\n",
    "            for j in 1:n_basefuncs\n",
    "                ∇N = shape_symmetric_gradient(cv, q_point, j)\n",
    "                Ke[i, j] += δ∇N ⊡ dσdϵ ⊡ ∇N * dΩ\n",
    "            end\n",
    "        end\n",
    "    end\n",
    "    assemble!(assembler, celldofs(cell), Ke)\n",
    "end"
   ],
   "metadata": {},
   "execution_count": 4
  },
  {
   "cell_type": "markdown",
   "source": [
    "Solve the finite element problem"
   ],
   "metadata": {}
  },
  {
   "outputs": [
    {
     "output_type": "execute_result",
     "data": {
      "text/plain": "solve (generic function with 1 method)"
     },
     "metadata": {},
     "execution_count": 5
    }
   ],
   "cell_type": "code",
   "source": [
    "function solve()\n",
    "    # Import grid from abaqus mesh\n",
    "    grid = get_ferrite_grid(joinpath(@__DIR__, \"compact_tension.inp\"))\n",
    "\n",
    "    # Setup the interpolation and integration for each field\n",
    "    dim=Ferrite.getdim(grid)\n",
    "    grid_keys = [\"CPS4R\", \"CPS3\"]\n",
    "    qr = Dict(\"CPS4R\"=>QuadratureRule{dim, RefCube}(2), \"CPS3\"=>QuadratureRule{dim, RefTetrahedron}(1))\n",
    "    ip = Dict(\"CPS4R\"=>Lagrange{dim, RefCube, 1}(), \"CPS3\"=>Lagrange{dim, RefTetrahedron, 1}())\n",
    "    cv = Dict(key=>CellVectorValues(qr[key], ip[key]) for key in keys(ip))\n",
    "\n",
    "    # Setup the MixedDofHandler\n",
    "    fields = Dict(key=>Field(:u, ip[key], dim) for key in keys(ip))\n",
    "    dh = MixedDofHandler(grid)\n",
    "    for key in grid_keys # Use grid_keys to ensure correct order\n",
    "        push!(dh, FieldHandler([fields[key]], getcellset(grid, key)))\n",
    "    end\n",
    "    close!(dh)\n",
    "\n",
    "    # Add boundary conditions\n",
    "    ch = ConstraintHandler(dh);\n",
    "    bc_sym = Dirichlet(:u, getfaceset(grid, \"Symmetry\"), (x, t) -> 0, 1)\n",
    "    bc_hole = Dirichlet(:u, getfaceset(grid, \"Hole\"), (x, t) -> Vec{2}((-t, 0.0)), [1,2])\n",
    "\n",
    "    # Happens to be only quad elements on constrainted surfaces. How to do this more generally?\n",
    "    add!(ch, dh.fieldhandlers[1], bc_sym)\n",
    "    add!(ch, dh.fieldhandlers[1], bc_hole)\n",
    "    close!(ch)\n",
    "\n",
    "    # Assemble stiffness matrix\n",
    "    K = create_sparsity_pattern(dh);\n",
    "    doassemble!(cv, K, dh)\n",
    "\n",
    "    # Solve linear equation system\n",
    "    f = zeros(ndofs(dh))\n",
    "    update!(ch, 1.0)\n",
    "    apply!(K, f, ch)\n",
    "    u = K\\f\n",
    "\n",
    "    # Save displacement field\n",
    "    vtk_grid(joinpath(@__DIR__, \"mixed_dof_handler\"), dh) do vtk\n",
    "        vtk_point_data(vtk, dh, u)\n",
    "    end\n",
    "end"
   ],
   "metadata": {},
   "execution_count": 5
  },
  {
   "cell_type": "markdown",
   "source": [
    "Solve the actual problem"
   ],
   "metadata": {}
  },
  {
   "outputs": [
    {
     "output_type": "execute_result",
     "data": {
      "text/plain": "1-element Vector{String}:\n \"/home/runner/work/FerriteMeshPa\" ⋯ 37 bytes ⋯ \"/examples/mixed_dof_handler.vtu\""
     },
     "metadata": {},
     "execution_count": 6
    }
   ],
   "cell_type": "code",
   "source": [
    "solve()"
   ],
   "metadata": {},
   "execution_count": 6
  },
  {
   "cell_type": "markdown",
   "source": [
    "---\n",
    "\n",
    "*This notebook was generated using [Literate.jl](https://github.com/fredrikekre/Literate.jl).*"
   ],
   "metadata": {}
  }
 ],
 "nbformat_minor": 3,
 "metadata": {
  "language_info": {
   "file_extension": ".jl",
   "mimetype": "application/julia",
   "name": "julia",
   "version": "1.7.2"
  },
  "kernelspec": {
   "name": "julia-1.7",
   "display_name": "Julia 1.7.2",
   "language": "julia"
  }
 },
 "nbformat": 4
}
