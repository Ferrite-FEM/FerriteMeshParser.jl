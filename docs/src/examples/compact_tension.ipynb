{
 "cells": [
  {
   "cell_type": "markdown",
   "source": [
    "# 2d mixed mesh import\n",
    "In this example, we will import a 2d mesh of a Compact Tension (CT) specimen\n",
    "from Abaqus. The mesh has both triangular and quadrilateral cells, and we define\n",
    "a few sets in Abaqus."
   ],
   "metadata": {}
  },
  {
   "cell_type": "markdown",
   "source": [
    "## Abaqus setup\n",
    "\n",
    "![](compact_tension_specimen.svg)\n",
    "Figure 1: Geometry and sets, mesh overview and detailed mesh from Abaqus.\n",
    "\n",
    "We have created sets for the hole (blue line: \"Hole\"), the symmetry edge\n",
    "(red line: \"Symmetry\"), and the crack zone (green area: \"CrackZone\").\n",
    "\n",
    "## Importing mesh\n",
    "The mesh above was created in Abaqus cae, and in this example we\n",
    "import the generated input file: [compact_tension.inp](compact_tension.inp)"
   ],
   "metadata": {}
  },
  {
   "outputs": [],
   "cell_type": "code",
   "source": [
    "using Ferrite, FerriteMeshParser\n",
    "\n",
    "grid = get_ferrite_grid(\"compact_tension.inp\")"
   ],
   "metadata": {},
   "execution_count": null
  },
  {
   "cell_type": "markdown",
   "source": [
    "We can now inspect this grid, showing that we have different cell types"
   ],
   "metadata": {}
  },
  {
   "outputs": [],
   "cell_type": "code",
   "source": [
    "println(typeof(grid))\n",
    "println(unique(typeof.(getcells(grid))))    # The different cell types in the grid"
   ],
   "metadata": {},
   "execution_count": null
  },
  {
   "cell_type": "markdown",
   "source": [
    "Furthermore, the node and cell sets are imported"
   ],
   "metadata": {}
  },
  {
   "outputs": [],
   "cell_type": "code",
   "source": [
    "println([(key, length(set)) for (key, set) in getnodesets(grid)])\n",
    "println([(key, length(set)) for (key, set) in getcellsets(grid)])"
   ],
   "metadata": {},
   "execution_count": null
  },
  {
   "cell_type": "markdown",
   "source": [
    "As we see, in addition to the sets created in Abaqus, the cellsets also include a set\n",
    "for each abaqus element type (useful if you for example defined reduced integration\n",
    "in only part of the domain and want to have this in Ferrite). Finally, facesets are\n",
    "automatically created by default (can be turned off by `generate_facesets=false`\n",
    "argument) based on the nodesets:"
   ],
   "metadata": {}
  },
  {
   "outputs": [],
   "cell_type": "code",
   "source": [
    "println([(key, length(set)) for (key, set) in getfacesets(grid)])"
   ],
   "metadata": {},
   "execution_count": null
  },
  {
   "cell_type": "markdown",
   "source": [
    "Clearly, the faceset `\"CrackZone\"` doesn't make much sense, but unless the mesh is\n",
    "very large it doesn't hurt. The facesets can be created manually from each nodeset\n",
    "by using the `create_faceset` function:"
   ],
   "metadata": {}
  },
  {
   "outputs": [],
   "cell_type": "code",
   "source": [
    "faceset = create_faceset(grid, getnodeset(grid,\"Hole\"));"
   ],
   "metadata": {},
   "execution_count": null
  },
  {
   "cell_type": "markdown",
   "source": [
    "This can if desired be merged into the grid by"
   ],
   "metadata": {}
  },
  {
   "outputs": [],
   "cell_type": "code",
   "source": [
    "merge!(getfacesets(grid), Dict(\"HoleManual\" => faceset))\n",
    "println([(key, length(set)) for (key, set) in getfacesets(grid)])"
   ],
   "metadata": {},
   "execution_count": null
  },
  {
   "cell_type": "markdown",
   "source": [
    "---\n",
    "\n",
    "*This notebook was generated using [Literate.jl](https://github.com/fredrikekre/Literate.jl).*"
   ],
   "metadata": {}
  }
 ],
 "nbformat_minor": 3,
 "metadata": {
  "language_info": {
   "file_extension": ".jl",
   "mimetype": "application/julia",
   "name": "julia",
   "version": "1.7.1"
  },
  "kernelspec": {
   "name": "julia-1.7",
   "display_name": "Julia 1.7.1",
   "language": "julia"
  }
 },
 "nbformat": 4
}
